{
  "cells":[
    {
      "cell_type":"markdown",
      "source":[
        "# Water Quality Dataset EDA - Machine Learning\n",
        "\n",
        "In this kernel I'm going to explore the water quality dataset using EDA tools and visualizations and then I'll find the best machine learning algorithm to create a classifier using sklearn.\n",
        "\n",
        "\n",
        "# Table Of Content\n",
        "\n",
        "1. Preparing Environment & Loading Data\n",
        "2. Exploratory Data Analysis\n",
        "    1. Class Distribution\n",
        "    2. Features' Mean By Classes\n",
        "    3. Features' Distribution By Classes\n",
        "    4. Correlation Between Features\n",
        "    5. Visualizing Data 2D using PCA\n",
        "3. Data Preprocessing\n",
        "    1. Filling Nan Values\n",
        "    2. Scaling Between 0 and 1\n",
        "    3. Train Test Split\n",
        "4. Machine Learning \n",
        "    1. Decision Tree\n",
        "    2. Random Forest\n",
        "    3. Logistic Regression\n",
        "    4. Support Vector Machine\n",
        "    5. Adaboost (DTC Week Learner)\n",
        "   "
      ],
      "metadata":{
        
      }
    },
    {
      "cell_type":"markdown",
      "source":[
        "# Preparing Environment & Loading Data\n",
        "In this section I'm going to import libraries I need and load the dataset using Pandas.$$"
      ],
      "metadata":{
        
      }
    },
    {
      "cell_type":"code",
      "source":[
        "import numpy as np\n",
        "import pandas as pd\n",
        "import matplotlib.pyplot as plt\n",
        "import seaborn as sns\n",
        "\n",
        "from sklearn.metrics import accuracy_score,confusion_matrix\n",
        "from sklearn.preprocessing import MinMaxScaler\n",
        "from sklearn.impute import SimpleImputer\n",
        "from sklearn.decomposition import PCA\n",
        "from sklearn.model_selection import train_test_split\n",
        "\n",
        "\n",
        "from sklearn.tree import DecisionTreeClassifier\n",
        "from sklearn.ensemble import RandomForestClassifier\n",
        "from sklearn.linear_model import LogisticRegression\n",
        "from sklearn.svm import SVC\n",
        "from sklearn.ensemble import AdaBoostClassifier\n",
        "\n",
        "\n",
        "import warnings as wrn\n",
        "wrn.filterwarnings(\"ignore\")"
      ],
      "execution_count":67,
      "outputs":[
        
      ],
      "metadata":{
        
      }
    },
    {
      "cell_type":"code",
      "source":[
        "data = pd.read_csv('water_potability.csv')\n",
        "data.head()"
      ],
      "execution_count":7,
      "outputs":[
        {
          "data":{
            "text\/html":[
              "<div>\n",
              "<style scoped>\n",
              "    .dataframe tbody tr th:only-of-type {\n",
              "        vertical-align: middle;\n",
              "    }\n",
              "\n",
              "    .dataframe tbody tr th {\n",
              "        vertical-align: top;\n",
              "    }\n",
              "\n",
              "    .dataframe thead th {\n",
              "        text-align: right;\n",
              "    }\n",
              "<\/style>\n",
              "<table border=\"1\" class=\"dataframe\">\n",
              "  <thead>\n",
              "    <tr style=\"text-align: right;\">\n",
              "      <th><\/th>\n",
              "      <th>ph<\/th>\n",
              "      <th>Hardness<\/th>\n",
              "      <th>Solids<\/th>\n",
              "      <th>Chloramines<\/th>\n",
              "      <th>Sulfate<\/th>\n",
              "      <th>Conductivity<\/th>\n",
              "      <th>Organic_carbon<\/th>\n",
              "      <th>Trihalomethanes<\/th>\n",
              "      <th>Turbidity<\/th>\n",
              "      <th>Potability<\/th>\n",
              "    <\/tr>\n",
              "  <\/thead>\n",
              "  <tbody>\n",
              "    <tr>\n",
              "      <th>0<\/th>\n",
              "      <td>NaN<\/td>\n",
              "      <td>204.890455<\/td>\n",
              "      <td>20791.318981<\/td>\n",
              "      <td>7.300212<\/td>\n",
              "      <td>368.516441<\/td>\n",
              "      <td>564.308654<\/td>\n",
              "      <td>10.379783<\/td>\n",
              "      <td>86.990970<\/td>\n",
              "      <td>2.963135<\/td>\n",
              "      <td>0<\/td>\n",
              "    <\/tr>\n",
              "    <tr>\n",
              "      <th>1<\/th>\n",
              "      <td>3.716080<\/td>\n",
              "      <td>129.422921<\/td>\n",
              "      <td>18630.057858<\/td>\n",
              "      <td>6.635246<\/td>\n",
              "      <td>NaN<\/td>\n",
              "      <td>592.885359<\/td>\n",
              "      <td>15.180013<\/td>\n",
              "      <td>56.329076<\/td>\n",
              "      <td>4.500656<\/td>\n",
              "      <td>0<\/td>\n",
              "    <\/tr>\n",
              "    <tr>\n",
              "      <th>2<\/th>\n",
              "      <td>8.099124<\/td>\n",
              "      <td>224.236259<\/td>\n",
              "      <td>19909.541732<\/td>\n",
              "      <td>9.275884<\/td>\n",
              "      <td>NaN<\/td>\n",
              "      <td>418.606213<\/td>\n",
              "      <td>16.868637<\/td>\n",
              "      <td>66.420093<\/td>\n",
              "      <td>3.055934<\/td>\n",
              "      <td>0<\/td>\n",
              "    <\/tr>\n",
              "    <tr>\n",
              "      <th>3<\/th>\n",
              "      <td>8.316766<\/td>\n",
              "      <td>214.373394<\/td>\n",
              "      <td>22018.417441<\/td>\n",
              "      <td>8.059332<\/td>\n",
              "      <td>356.886136<\/td>\n",
              "      <td>363.266516<\/td>\n",
              "      <td>18.436524<\/td>\n",
              "      <td>100.341674<\/td>\n",
              "      <td>4.628771<\/td>\n",
              "      <td>0<\/td>\n",
              "    <\/tr>\n",
              "    <tr>\n",
              "      <th>4<\/th>\n",
              "      <td>9.092223<\/td>\n",
              "      <td>181.101509<\/td>\n",
              "      <td>17978.986339<\/td>\n",
              "      <td>6.546600<\/td>\n",
              "      <td>310.135738<\/td>\n",
              "      <td>398.410813<\/td>\n",
              "      <td>11.558279<\/td>\n",
              "      <td>31.997993<\/td>\n",
              "      <td>4.075075<\/td>\n",
              "      <td>0<\/td>\n",
              "    <\/tr>\n",
              "  <\/tbody>\n",
              "<\/table>\n",
              "<\/div>"
            ]
          },
          "metadata":{
            
          },
          "output_type":"display_data"
        }
      ],
      "metadata":{
        
      }
    },
    {
      "cell_type":"code",
      "source":[
        "data.info()"
      ],
      "execution_count":8,
      "outputs":[
        {
          "name":"stdout",
          "text":[
            "<class 'pandas.core.frame.DataFrame'>\n",
            "RangeIndex: 3276 entries, 0 to 3275\n",
            "Data columns (total 10 columns):\n",
            " #   Column           Non-Null Count  Dtype  \n",
            "---  ------           --------------  -----  \n",
            " 0   ph               2785 non-null   float64\n",
            " 1   Hardness         3276 non-null   float64\n",
            " 2   Solids           3276 non-null   float64\n",
            " 3   Chloramines      3276 non-null   float64\n",
            " 4   Sulfate          2495 non-null   float64\n",
            " 5   Conductivity     3276 non-null   float64\n",
            " 6   Organic_carbon   3276 non-null   float64\n",
            " 7   Trihalomethanes  3114 non-null   float64\n",
            " 8   Turbidity        3276 non-null   float64\n",
            " 9   Potability       3276 non-null   int64  \n",
            "dtypes: float64(9), int64(1)\n",
            "memory usage: 256.1 KB\n"
          ],
          "output_type":"stream"
        }
      ],
      "metadata":{
        
      }
    },
    {
      "cell_type":"markdown",
      "source":[
        "# Exploratory Data Analysis\n",
        "\n",
        "In this section we're gonna discover the dataset \n",
        "\n",
        "## 1. Class Distribution"
      ],
      "metadata":{
        
      }
    },
    {
      "cell_type":"code",
      "source":[
        "fig,ax = plt.subplots(figsize=(6,4))\n",
        "sns.countplot(data[\"Potability\"])\n",
        "plt.ylabel(\"Class\")\n",
        "plt.xlabel(\"Number of Samples\")\n",
        "plt.show()"
      ],
      "execution_count":6,
      "outputs":[
        {
          "data":{
            "image\/png":"[encoded data removed]"
          },
          "metadata":{
            "image\/png":{
              "width":0,
              "height":0
            }
          },
          "output_type":"display_data"
        }
      ],
      "metadata":{
        
      }
    },
    {
      "cell_type":"markdown",
      "source":[
        "* Class 0, water that is dangerous to drink, has 2000 samples while Class 1 has 1250 samples so data is a bit unbalanced but it won't be a problem I guess.\n",
        "\n",
        "\n",
        "## 2.Mean of Features by Classes\n",
        "\n",
        "### Feature 1: PH"
      ],
      "metadata":{
        
      }
    },
    {
      "cell_type":"code",
      "source":[
        "def getMeansByClasses(feature_label):\n",
        "    feature_means = data.groupby(\"Potability\")[feature_label].mean()\n",
        "    print(feature_means)\n",
        "\n",
        "    _,_ = plt.subplots(figsize=(6,4))\n",
        "    sns.barplot(feature_means.index,feature_means.values,palette=\"PuRd\")\n",
        "    plt.show()"
      ],
      "execution_count":19,
      "outputs":[
        
      ],
      "metadata":{
        
      }
    },
    {
      "cell_type":"code",
      "source":[
        "getMeansByClasses(\"ph\")"
      ],
      "execution_count":20,
      "outputs":[
        {
          "name":"stdout",
          "text":[
            "Potability\n",
            "0    7.085378\n",
            "1    7.073783\n",
            "Name: ph, dtype: float64\n"
          ],
          "output_type":"stream"
        },
        {
          "data":{
            "image\/png":"[encoded data removed]"
          },
          "metadata":{
            "image\/png":{
              "width":0,
              "height":0
            }
          },
          "output_type":"display_data"
        }
      ],
      "metadata":{
        
      }
    },
    {
      "cell_type":"markdown",
      "source":[
        "* There is almost no difference between the two classes, we might need to drop this feature after looking at histograms.\n",
        "\n",
        "### Feature 2: Hardness"
      ],
      "metadata":{
        
      }
    },
    {
      "cell_type":"code",
      "source":[
        "getMeansByClasses(\"Hardness\")"
      ],
      "execution_count":21,
      "outputs":[
        {
          "name":"stdout",
          "text":[
            "Potability\n",
            "0    196.733292\n",
            "1    195.800744\n",
            "Name: Hardness, dtype: float64\n"
          ],
          "output_type":"stream"
        },
        {
          "data":{
            "image\/png":"[encoded data removed]"
          },
          "metadata":{
            "image\/png":{
              "width":0,
              "height":0
            }
          },
          "output_type":"display_data"
        }
      ],
      "metadata":{
        
      }
    },
    {
      "cell_type":"markdown",
      "source":[
        "* Things started to get strange, there is almost no difference between the means of hardness of these two classes as well.\n",
        "\n",
        "### Feature 3: Solids"
      ],
      "metadata":{
        
      }
    },
    {
      "cell_type":"code",
      "source":[
        "getMeansByClasses(\"Solids\")"
      ],
      "execution_count":22,
      "outputs":[
        {
          "name":"stdout",
          "text":[
            "Potability\n",
            "0    21777.490788\n",
            "1    22383.991018\n",
            "Name: Solids, dtype: float64\n"
          ],
          "output_type":"stream"
        },
        {
          "data":{
            "image\/png":"[encoded data removed]"
          },
          "metadata":{
            "image\/png":{
              "width":0,
              "height":0
            }
          },
          "output_type":"display_data"
        }
      ],
      "metadata":{
        
      }
    },
    {
      "cell_type":"markdown",
      "source":[
        "* Hmm, this feature seems like other features too. There is no big differences between these two classes but at least this feature might be more descriptive\n",
        "\n",
        "### Feature 4: Chloramines"
      ],
      "metadata":{
        
      }
    },
    {
      "cell_type":"code",
      "source":[
        "getMeansByClasses(\"Chloramines\")"
      ],
      "execution_count":23,
      "outputs":[
        {
          "name":"stdout",
          "text":[
            "Potability\n",
            "0    7.092175\n",
            "1    7.169338\n",
            "Name: Chloramines, dtype: float64\n"
          ],
          "output_type":"stream"
        },
        {
          "data":{
            "image\/png":"[encoded data removed]"
          },
          "metadata":{
            "image\/png":{
              "width":0,
              "height":0
            }
          },
          "output_type":"display_data"
        }
      ],
      "metadata":{
        
      }
    },
    {
      "cell_type":"markdown",
      "source":[
        "* They looks same but like the previous feature there is a little (really little) difference between them.\n",
        "\n",
        "### Features 5: Sulfate"
      ],
      "metadata":{
        
      }
    },
    {
      "cell_type":"code",
      "source":[
        "getMeansByClasses(\"Sulfate\")"
      ],
      "execution_count":24,
      "outputs":[
        {
          "name":"stdout",
          "text":[
            "Potability\n",
            "0    334.56429\n",
            "1    332.56699\n",
            "Name: Sulfate, dtype: float64\n"
          ],
          "output_type":"stream"
        },
        {
          "data":{
            "image\/png":"[encoded data removed]"
          },
          "metadata":{
            "image\/png":{
              "width":0,
              "height":0
            }
          },
          "output_type":"display_data"
        }
      ],
      "metadata":{
        
      }
    },
    {
      "cell_type":"markdown",
      "source":[
        "* This is one of the most strange datasets I've seen as a junior data scientist (in fact I'm an highschool student but who cares, I can consider myself junior data scientists.)\n",
        "  \n",
        "### Feature 6: Conductivity"
      ],
      "metadata":{
        
      }
    },
    {
      "cell_type":"code",
      "source":[
        "getMeansByClasses(\"Conductivity\")"
      ],
      "execution_count":25,
      "outputs":[
        {
          "name":"stdout",
          "text":[
            "Potability\n",
            "0    426.730454\n",
            "1    425.383800\n",
            "Name: Conductivity, dtype: float64\n"
          ],
          "output_type":"stream"
        },
        {
          "data":{
            "image\/png":"[encoded data removed]"
          },
          "metadata":{
            "image\/png":{
              "width":0,
              "height":0
            }
          },
          "output_type":"display_data"
        }
      ],
      "metadata":{
        
      }
    },
    {
      "cell_type":"markdown",
      "source":[
        "### Feature 7: Organic Carbon"
      ],
      "metadata":{
        
      }
    },
    {
      "cell_type":"code",
      "source":[
        "getMeansByClasses(\"Organic_carbon\")"
      ],
      "execution_count":26,
      "outputs":[
        {
          "name":"stdout",
          "text":[
            "Potability\n",
            "0    14.364335\n",
            "1    14.160893\n",
            "Name: Organic_carbon, dtype: float64\n"
          ],
          "output_type":"stream"
        },
        {
          "data":{
            "image\/png":"[encoded data removed]"
          },
          "metadata":{
            "image\/png":{
              "width":0,
              "height":0
            }
          },
          "output_type":"display_data"
        }
      ],
      "metadata":{
        
      }
    },
    {
      "cell_type":"markdown",
      "source":[
        "### Feature 8: Trihalomethanes"
      ],
      "metadata":{
        
      }
    },
    {
      "cell_type":"code",
      "source":[
        "getMeansByClasses(\"Trihalomethanes\")"
      ],
      "execution_count":27,
      "outputs":[
        {
          "name":"stdout",
          "text":[
            "Potability\n",
            "0    66.303555\n",
            "1    66.539684\n",
            "Name: Trihalomethanes, dtype: float64\n"
          ],
          "output_type":"stream"
        },
        {
          "data":{
            "image\/png":"[encoded data removed]"
          },
          "metadata":{
            "image\/png":{
              "width":0,
              "height":0
            }
          },
          "output_type":"display_data"
        }
      ],
      "metadata":{
        
      }
    },
    {
      "cell_type":"markdown",
      "source":[
        "* Oh, there is no difference, really strange.\n",
        "\n",
        "### Feature 9: Turbidity"
      ],
      "metadata":{
        
      }
    },
    {
      "cell_type":"code",
      "source":[
        "getMeansByClasses(\"Turbidity\")"
      ],
      "execution_count":28,
      "outputs":[
        {
          "name":"stdout",
          "text":[
            "Potability\n",
            "0    3.965800\n",
            "1    3.968328\n",
            "Name: Turbidity, dtype: float64\n"
          ],
          "output_type":"stream"
        },
        {
          "data":{
            "image\/png":"[encoded data removed]"
          },
          "metadata":{
            "image\/png":{
              "width":0,
              "height":0
            }
          },
          "output_type":"display_data"
        }
      ],
      "metadata":{
        
      }
    },
    {
      "cell_type":"markdown",
      "source":[
        "### Features Distribution By Classes\n",
        "\n",
        "### Feature 1: PH"
      ],
      "metadata":{
        
      }
    },
    {
      "cell_type":"code",
      "source":[
        "def getFeaturesDistributionByClasses(feature_label):\n",
        "    class_0 = data[data[\"Potability\"] == 0.0][feature_label]\n",
        "    class_1 = data[data[\"Potability\"] == 1.0][feature_label]\n",
        "\n",
        "    figure = plt.figure()\n",
        "    figure.add_subplot(1,2,1)\n",
        "    plt.hist(x=class_0)\n",
        "    plt.xlabel(\"Distribution\")\n",
        "    plt.title(\"Class 0 | Feature {}\".format(feature_label.capitalize()))\n",
        "\n",
        "    figure.add_subplot(1,2,2)\n",
        "    plt.hist(x=class_1)\n",
        "    plt.xlabel(\"Distribution\")\n",
        "    plt.title(\"Class 1 | Feature {}\".format(feature_label.capitalize()))\n",
        "\n",
        "    plt.show()"
      ],
      "execution_count":38,
      "outputs":[
        
      ],
      "metadata":{
        
      }
    },
    {
      "cell_type":"code",
      "source":[
        "getFeaturesDistributionByClasses(\"ph\")"
      ],
      "execution_count":39,
      "outputs":[
        {
          "data":{
            "image\/png":"[encoded data removed]"
          },
          "metadata":{
            "image\/png":{
              "width":0,
              "height":0
            }
          },
          "output_type":"display_data"
        }
      ],
      "metadata":{
        
      }
    },
    {
      "cell_type":"markdown",
      "source":[
        "### Features 2: Hardness"
      ],
      "metadata":{
        
      }
    },
    {
      "cell_type":"code",
      "source":[
        "getFeaturesDistributionByClasses(\"Hardness\")"
      ],
      "execution_count":40,
      "outputs":[
        {
          "data":{
            "image\/png":"[encoded data removed]"
          },
          "metadata":{
            "image\/png":{
              "width":0,
              "height":0
            }
          },
          "output_type":"display_data"
        }
      ],
      "metadata":{
        
      }
    },
    {
      "cell_type":"markdown",
      "source":[
        "### Feature 3: Solids"
      ],
      "metadata":{
        
      }
    },
    {
      "cell_type":"code",
      "source":[
        "getFeaturesDistributionByClasses(\"Solids\")"
      ],
      "execution_count":41,
      "outputs":[
        {
          "data":{
            "image\/png":"[encoded data removed]"
          },
          "metadata":{
            "image\/png":{
              "width":0,
              "height":0
            }
          },
          "output_type":"display_data"
        }
      ],
      "metadata":{
        
      }
    },
    {
      "cell_type":"markdown",
      "source":[
        "### Feature 4: Chloramines"
      ],
      "metadata":{
        
      }
    },
    {
      "cell_type":"code",
      "source":[
        "getFeaturesDistributionByClasses(\"Chloramines\")"
      ],
      "execution_count":42,
      "outputs":[
        {
          "data":{
            "image\/png":"[encoded data removed]"
          },
          "metadata":{
            "image\/png":{
              "width":0,
              "height":0
            }
          },
          "output_type":"display_data"
        }
      ],
      "metadata":{
        
      }
    },
    {
      "cell_type":"markdown",
      "source":[
        "### Feature 5: Sulfate"
      ],
      "metadata":{
        
      }
    },
    {
      "cell_type":"code",
      "source":[
        "getFeaturesDistributionByClasses(\"Sulfate\")"
      ],
      "execution_count":43,
      "outputs":[
        {
          "data":{
            "image\/png":"[encoded data removed]"
          },
          "metadata":{
            "image\/png":{
              "width":0,
              "height":0
            }
          },
          "output_type":"display_data"
        }
      ],
      "metadata":{
        
      }
    },
    {
      "cell_type":"markdown",
      "source":[
        "### Feature 6: Conductivity"
      ],
      "metadata":{
        
      }
    },
    {
      "cell_type":"code",
      "source":[
        "getFeaturesDistributionByClasses(\"Conductivity\")"
      ],
      "execution_count":44,
      "outputs":[
        {
          "data":{
            "image\/png":"[encoded data removed]"
          },
          "metadata":{
            "image\/png":{
              "width":0,
              "height":0
            }
          },
          "output_type":"display_data"
        }
      ],
      "metadata":{
        
      }
    },
    {
      "cell_type":"markdown",
      "source":[
        "### Feature 7: Organic Carbon"
      ],
      "metadata":{
        
      }
    },
    {
      "cell_type":"code",
      "source":[
        "getFeaturesDistributionByClasses(\"Organic_carbon\")"
      ],
      "execution_count":45,
      "outputs":[
        {
          "data":{
            "image\/png":"[encoded data removed]"
          },
          "metadata":{
            "image\/png":{
              "width":0,
              "height":0
            }
          },
          "output_type":"display_data"
        }
      ],
      "metadata":{
        
      }
    },
    {
      "cell_type":"markdown",
      "source":[
        "### Feature 8: Trihalomethanes"
      ],
      "metadata":{
        
      }
    },
    {
      "cell_type":"code",
      "source":[
        "getFeaturesDistributionByClasses(\"Trihalomethanes\")"
      ],
      "execution_count":46,
      "outputs":[
        {
          "data":{
            "image\/png":"[encoded data removed]"
          },
          "metadata":{
            "image\/png":{
              "width":0,
              "height":0
            }
          },
          "output_type":"display_data"
        }
      ],
      "metadata":{
        
      }
    },
    {
      "cell_type":"markdown",
      "source":[
        "### Features 9: Turbidity"
      ],
      "metadata":{
        
      }
    },
    {
      "cell_type":"code",
      "source":[
        "getFeaturesDistributionByClasses(\"Turbidity\")"
      ],
      "execution_count":47,
      "outputs":[
        {
          "data":{
            "image\/png":"[encoded data removed]"
          },
          "metadata":{
            "image\/png":{
              "width":0,
              "height":0
            }
          },
          "output_type":"display_data"
        }
      ],
      "metadata":{
        
      }
    },
    {
      "cell_type":"markdown",
      "source":[
        "## Correlation Between Features"
      ],
      "metadata":{
        
      }
    },
    {
      "cell_type":"code",
      "source":[
        "_,_ = plt.subplots(figsize=(6,6))\n",
        "sns.heatmap(data.corr(),linewidths=1.5,annot=True,fmt=\".1f\")\n",
        "plt.show()"
      ],
      "execution_count":49,
      "outputs":[
        {
          "data":{
            "image\/png":"[encoded data removed]"
          },
          "metadata":{
            "image\/png":{
              "width":0,
              "height":0
            }
          },
          "output_type":"display_data"
        }
      ],
      "metadata":{
        
      }
    },
    {
      "cell_type":"markdown",
      "source":[
        "## Visualizing Data 2D Using PCA"
      ],
      "metadata":{
        
      }
    },
    {
      "cell_type":"code",
      "source":[
        "pca = PCA(n_components=2)\n",
        "x_class0 = np.asarray(data.drop(\"Potability\",axis=1).dropna()[data[\"Potability\"] == 0.0])\n",
        "x_class1 = np.asarray(data.drop(\"Potability\",axis=1).dropna()[data[\"Potability\"] == 1.0])\n",
        "\n",
        "pca.fit(np.asarray(data.drop(\"Potability\",axis=1).dropna()))\n",
        "x_class0_2d = pca.transform(x_class0)\n",
        "x_class1_2d = pca.transform(x_class1)\n",
        "\n",
        "plt.subplots()\n",
        "plt.scatter(x_class0_2d[:,0],x_class0_2d[:,1],label=\"Class: 0\",c=\"blue\")\n",
        "plt.scatter(x_class1_2d[:,0],x_class1_2d[:,1],label=\"Class: 1\",c=\"green\")\n",
        "plt.legend()\n",
        "plt.show()\n"
      ],
      "execution_count":65,
      "outputs":[
        {
          "data":{
            "image\/png":"[encoded data removed]"
          },
          "metadata":{
            "image\/png":{
              "width":0,
              "height":0
            }
          },
          "output_type":"display_data"
        }
      ],
      "metadata":{
        
      }
    },
    {
      "cell_type":"markdown",
      "source":[
        "# Data Preprocessing\n",
        "We explored data and now it's time to process it in order to use it to train a classifier."
      ],
      "metadata":{
        
      }
    },
    {
      "cell_type":"code",
      "source":[
        "# We'll start by splitting x and y\n",
        "x = np.asarray(data.drop(\"Potability\",axis=1))\n",
        "y = np.asarray(data[\"Potability\"])"
      ],
      "execution_count":66,
      "outputs":[
        
      ],
      "metadata":{
        
      }
    },
    {
      "cell_type":"code",
      "source":[
        "# There are nan values in the dataset, and now we'll fill them by mean of each feature\n",
        "mean_imputer = SimpleImputer()\n",
        "x_filled = mean_imputer.fit_transform(x)\n",
        "print(\"Number of nan values:\",np.isnan(x_filled).sum())"
      ],
      "execution_count":70,
      "outputs":[
        {
          "name":"stdout",
          "text":[
            "Number of nan values: 0\n"
          ],
          "output_type":"stream"
        }
      ],
      "metadata":{
        
      }
    },
    {
      "cell_type":"code",
      "source":[
        "# Each feature has a different scaling but in order to prevent problems in machine learning \n",
        "# we have to scale them between 0 and 1\n",
        "\n",
        "scaler = MinMaxScaler()\n",
        "\n",
        "x_scaled = scaler.fit_transform(x_filled)\n",
        "\n",
        "x_scaled"
      ],
      "execution_count":71,
      "outputs":[
        {
          "data":{
            "text\/plain":[
              "array([[0.50577104, 0.57113901, 0.33609646, ..., 0.31340165, 0.69975313,\n",
              "        0.28609102],\n",
              "       [0.26543429, 0.29740043, 0.30061142, ..., 0.49731851, 0.4509993 ,\n",
              "        0.57679264],\n",
              "       [0.57850887, 0.64131081, 0.32161885, ..., 0.56201674, 0.5328657 ,\n",
              "        0.30363656],\n",
              "       ...,\n",
              "       [0.67282217, 0.46548556, 0.53910122, ..., 0.33866167, 0.56065454,\n",
              "        0.34956996],\n",
              "       [0.36619735, 0.66440723, 0.19148981, ..., 0.34363779, 0.62265916,\n",
              "        0.61611996],\n",
              "       [0.56247653, 0.53563505, 0.28048408, ..., 0.5341137 , 0.63247754,\n",
              "        0.16244074]])"
            ]
          },
          "metadata":{
            
          },
          "output_type":"display_data"
        }
      ],
      "metadata":{
        
      }
    },
    {
      "cell_type":"code",
      "source":[
        "# Everything is ready about X, and all we need to do for Y is changing datatype to integer.\n",
        "y = y.astype(int)\n",
        "\n",
        "# Data is ready, now we can split data into test and train set\n",
        "x_train,x_test,y_train,y_test = train_test_split(x_scaled,y,test_size=0.25,random_state=42)\n",
        "print(x_train.shape)\n",
        "print(x_test.shape)\n",
        "print(y_train.shape)\n",
        "print(y_test.shape)\n",
        " "
      ],
      "execution_count":73,
      "outputs":[
        {
          "name":"stdout",
          "text":[
            "(2457, 9)\n",
            "(819, 9)\n",
            "(2457,)\n",
            "(819,)\n"
          ],
          "output_type":"stream"
        }
      ],
      "metadata":{
        
      }
    },
    {
      "cell_type":"markdown",
      "source":[
        "# Machine Learning\n",
        "In this section we're going to fit machine learning models using preprocessed data. First we'll decide on an algorithm by checking the validation accuracy. Then we'll create the confusion matrix of the algorithm we chose.\n",
        "\n",
        "## 1. Decision Tree\n"
      ],
      "metadata":{
        
      }
    },
    {
      "cell_type":"code",
      "source":[
        "dtc = DecisionTreeClassifier()\n",
        "dtc.fit(x_train,y_train)\n",
        "print(\"Decison Tree Classifier\",round(dtc.score(x_test,y_test),2))"
      ],
      "execution_count":75,
      "outputs":[
        {
          "name":"stdout",
          "text":[
            "Decison Tree Classifier 0.58\n"
          ],
          "output_type":"stream"
        }
      ],
      "metadata":{
        
      }
    },
    {
      "cell_type":"markdown",
      "source":[
        "* Predictable, classes values are insanely similar, so we need something more complex.\n",
        "\n",
        "## 2. Random Forest"
      ],
      "metadata":{
        
      }
    },
    {
      "cell_type":"code",
      "source":[
        "rfc = RandomForestClassifier()\n",
        "rfc.fit(x_train,y_train)\n",
        "print(\"Random Forest Classifier\",round(rfc.score(x_test,y_test),2))"
      ],
      "execution_count":76,
      "outputs":[
        {
          "name":"stdout",
          "text":[
            "Random Forest Classifier 0.67\n"
          ],
          "output_type":"stream"
        }
      ],
      "metadata":{
        
      }
    },
    {
      "cell_type":"markdown",
      "source":[
        "* Better, but not enough.\n",
        "\n",
        "## 3. Logistic Regression"
      ],
      "metadata":{
        
      }
    },
    {
      "cell_type":"code",
      "source":[
        "lrc = LogisticRegression()\n",
        "lrc.fit(x_train,y_train)\n",
        "print(\"Logistic Regression\",round(lrc.score(x_test,y_test),2))"
      ],
      "execution_count":77,
      "outputs":[
        {
          "name":"stdout",
          "text":[
            "Logistic Regression 0.62\n"
          ],
          "output_type":"stream"
        }
      ],
      "metadata":{
        
      }
    },
    {
      "cell_type":"markdown",
      "source":[
        "## 4. Support Vector Machine"
      ],
      "metadata":{
        
      }
    },
    {
      "cell_type":"code",
      "source":[
        "svc = SVC()\n",
        "svc.fit(x_train,y_train)\n",
        "print(\"Support Vector Clasifier\",round(svc.score(x_test,y_test),2))"
      ],
      "execution_count":78,
      "outputs":[
        {
          "name":"stdout",
          "text":[
            "Support Vector Clasifier 0.68\n"
          ],
          "output_type":"stream"
        }
      ],
      "metadata":{
        
      }
    },
    {
      "cell_type":"markdown",
      "source":[
        "## 5. Adaboost (Based on DTC)"
      ],
      "metadata":{
        
      }
    },
    {
      "cell_type":"code",
      "source":[
        "adaboost = AdaBoostClassifier(DecisionTreeClassifier())\n",
        "adaboost.fit(x_train,y_train)\n",
        "print(\"Adaboost Based On DTC\",round(adaboost.score(x_test,y_test),2))"
      ],
      "execution_count":79,
      "outputs":[
        {
          "name":"stdout",
          "text":[
            "Adaboost Based On DTC 0.6\n"
          ],
          "output_type":"stream"
        }
      ],
      "metadata":{
        
      }
    },
    {
      "cell_type":"markdown",
      "source":[
        "**Result**: This data is one of the hardest datasets I've seen because all features are almost acts same, it's even hard for a human. So %68 with Support Vector Machine is not that bad.\n",
        " "
      ],
      "metadata":{
        
      }
    },
    {
      "cell_type":"code",
      "source":[
        
      ],
      "execution_count":null,
      "outputs":[
        
      ],
      "metadata":{
        
      }
    }
  ],
  "metadata":{
    
  },
  "nbformat":4,
  "nbformat_minor":0
}
